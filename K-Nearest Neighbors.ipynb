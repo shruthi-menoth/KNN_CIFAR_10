{
 "cells": [
  {
   "cell_type": "code",
   "execution_count": 1,
   "metadata": {},
   "outputs": [],
   "source": [
    "import random\n",
    "import numpy as np\n",
    "from data_utils import load_CIFAR10\n",
    "import matplotlib.pyplot as plt"
   ]
  },
  {
   "cell_type": "code",
   "execution_count": 2,
   "metadata": {},
   "outputs": [],
   "source": [
    "cifar10_dir = 'datasets/cifar-10-batches-py'\n",
    "x_train, y_train, x_test, y_test = load_CIFAR10(cifar10_dir)"
   ]
  },
  {
   "cell_type": "code",
   "execution_count": 3,
   "metadata": {},
   "outputs": [
    {
     "name": "stdout",
     "output_type": "stream",
     "text": [
      "Shape of training data =  (50000, 32, 32, 3)\n",
      "Shape of training labels =  (50000,)\n",
      "Shape of testing data =  (10000, 32, 32, 3)\n",
      "Shape of testing labels =  (10000,)\n"
     ]
    }
   ],
   "source": [
    "print ('Shape of training data = ', x_train.shape)\n",
    "print ('Shape of training labels = ', y_train.shape)\n",
    "print ('Shape of testing data = ', x_test.shape)\n",
    "print ('Shape of testing labels = ', y_test.shape)"
   ]
  },
  {
   "cell_type": "code",
   "execution_count": 4,
   "metadata": {},
   "outputs": [],
   "source": [
    "num_training = 5000\n",
    "mask = range(num_training)\n",
    "x_train = x_train[mask]\n",
    "y_train = y_train[mask]\n",
    "\n",
    "num_test = 500\n",
    "mask = range(num_test)\n",
    "x_test = x_test[mask]\n",
    "y_test = y_test[mask]\n",
    "\n",
    "\n"
   ]
  },
  {
   "cell_type": "code",
   "execution_count": 5,
   "metadata": {},
   "outputs": [
    {
     "name": "stdout",
     "output_type": "stream",
     "text": [
      "(5000, 3072) (500, 3072)\n"
     ]
    }
   ],
   "source": [
    "x_train = np.reshape(x_train, (x_train.shape[0], -1))\n",
    "x_test = np.reshape(x_test, (x_test.shape[0], -1))\n",
    "print (x_train.shape, x_test.shape)"
   ]
  },
  {
   "cell_type": "code",
   "execution_count": 6,
   "metadata": {},
   "outputs": [],
   "source": [
    "class NN(object):\n",
    "    \n",
    "    def _init_(self):\n",
    "        pass\n",
    "    \n",
    "    def train(self,x,y):\n",
    "        self.xtr = x\n",
    "        self.ytr = y\n",
    "            \n",
    "    def predictdist(self,x):\n",
    "        num_test = x.shape[0]\n",
    "        num_train = self.xtr.shape[0]\n",
    "        dists = np.zeros((num_test, num_train))\n",
    "        for i in range(num_test):\n",
    "            for j in range(num_train):\n",
    "                dists[i,j] = np.sqrt(np.sum((x[i,:]-self.xtr[j,:])**2))\n",
    "        return dists\n",
    "    \n",
    "    def predict_labels(self, dists, k=1):\n",
    "        num_test = dists.shape[0]\n",
    "        y_pred = np.zeros(num_test)\n",
    "        \n",
    "        for i in range(num_test):\n",
    "            closest_y = []\n",
    "            y_indicies = np.argsort(dists[i, :], axis = 0)\n",
    "            closest_y = self.ytr[y_indicies[:k]]\n",
    "            y_pred[i] = np.argmax(np.bincount(closest_y))\n",
    "    \n",
    "        return  y_pred"
   ]
  },
  {
   "cell_type": "code",
   "execution_count": 7,
   "metadata": {},
   "outputs": [
    {
     "name": "stdout",
     "output_type": "stream",
     "text": [
      "(500, 5000)\n"
     ]
    }
   ],
   "source": [
    "a = NN()\n",
    "a.train(x_train,y_train)\n",
    "dist =a.predictdist(x_test)\n",
    "print (dist.shape)"
   ]
  },
  {
   "cell_type": "code",
   "execution_count": 8,
   "metadata": {},
   "outputs": [
    {
     "name": "stdout",
     "output_type": "stream",
     "text": [
      "Got 363 / 500 correct => error rate: 0.726000\n"
     ]
    }
   ],
   "source": [
    "y_test_pred = a.predict_labels(dist, k=1)\n",
    "\n",
    "num_wrong = np.sum(y_test_pred != y_test)\n",
    "error = float(num_wrong) / num_test\n",
    "print ('Got %d / %d correct => error rate: %f' % (num_wrong, num_test, error))"
   ]
  },
  {
   "cell_type": "code",
   "execution_count": 9,
   "metadata": {},
   "outputs": [
    {
     "name": "stdout",
     "output_type": "stream",
     "text": [
      "k = 2, error = 0.776000\n",
      "k = 5, error = 0.722000\n",
      "k = 10, error = 0.718000\n",
      "k = 20, error = 0.728000\n"
     ]
    }
   ],
   "source": [
    "k_num = [2,5,10,20]\n",
    "k_error= {}\n",
    "\n",
    "for k in k_num:\n",
    "    k_error[k] = []\n",
    "    a.train(x_train,y_train)\n",
    "    dist1 =a.predictdist(x_test)\n",
    "    y_test_pred = a.predict_labels(dist1, k=k)\n",
    "\n",
    "    num_wrong = np.sum(y_test_pred != y_test)\n",
    "    error = float(num_wrong) / num_test\n",
    "    k_error[k].append(error)\n",
    "    print ('k = %d, error = %f' % (k, error))\n",
    "    \n",
    "    "
   ]
  },
  {
   "cell_type": "code",
   "execution_count": 10,
   "metadata": {},
   "outputs": [
    {
     "data": {
      "image/png": "[encoded data removed]",
      "text/plain": [
       "<matplotlib.figure.Figure at 0x26160510550>"
      ]
     },
     "metadata": {},
     "output_type": "display_data"
    }
   ],
   "source": [
    "for k in k_num:\n",
    "    error = k_error[k]\n",
    "    plt.plot([k], error,'-o')\n",
    "\n",
    "\n",
    "plt.xlabel('k')\n",
    "plt.ylabel('error rate')\n",
    "plt.show()\n",
    "    \n"
   ]
  },
  {
   "cell_type": "code",
   "execution_count": 11,
   "metadata": {},
   "outputs": [
    {
     "name": "stdout",
     "output_type": "stream",
     "text": [
      "For class plane, labels for 10  nearest neighbours are \n",
      "[8 7 3 8 8 8 0 4 8 8]\n",
      "For class car, labels for 10  nearest neighbours are \n",
      "[2 6 2 2 2 2 2 5 4 3]\n",
      "For class bird, labels for 10  nearest neighbours are \n",
      "[4 4 4 2 6 2 4 2 5 5]\n",
      "For class cat, labels for 10  nearest neighbours are \n",
      "[5 4 4 2 2 4 2 4 2 4]\n",
      "For class deer, labels for 10  nearest neighbours are \n",
      "[6 2 2 2 6 4 6 3 4 5]\n",
      "For class dog, labels for 10  nearest neighbours are \n",
      "[2 2 2 4 2 2 4 4 3 4]\n",
      "For class frog, labels for 10  nearest neighbours are \n",
      "[4 8 6 4 4 6 6 4 5 6]\n",
      "For class horse, labels for 10  nearest neighbours are \n",
      "[4 6 2 4 2 2 3 0 4 2]\n",
      "For class ship, labels for 10  nearest neighbours are \n",
      "[8 6 0 4 8 8 0 8 8 0]\n",
      "For class truck, labels for 10  nearest neighbours are \n",
      "[8 8 8 9 8 8 0 8 0 0]\n"
     ]
    }
   ],
   "source": [
    "classes = ['plane', 'car', 'bird', 'cat', 'deer', 'dog', 'frog', 'horse', 'ship', 'truck']\n",
    "\n",
    "for y, cls in enumerate(classes):\n",
    "#     label_ind[y] = []\n",
    "    idxs = np.flatnonzero(y_test == y)\n",
    "    idxs = np.random.choice(idxs, 1, replace=False)\n",
    "    m=idxs[0]\n",
    "    closest_y = []\n",
    "    y_indicies = np.argsort(dist[m, :], axis = 0)\n",
    "    closest_y = y_train[y_indicies[:10]]\n",
    "    print('For class %s, labels for 10  nearest neighbours are '% (cls))\n",
    "    print(closest_y)\n"
   ]
  },
  {
   "cell_type": "code",
   "execution_count": null,
   "metadata": {},
   "outputs": [],
   "source": []
  },
  {
   "cell_type": "code",
   "execution_count": null,
   "metadata": {},
   "outputs": [],
   "source": []
  }
 ],
 "metadata": {
  "kernelspec": {
   "display_name": "Python 3",
   "language": "python",
   "name": "python3"
  },
  "language_info": {
   "codemirror_mode": {
    "name": "ipython",
    "version": 3
   },
   "file_extension": ".py",
   "mimetype": "text/x-python",
   "name": "python",
   "nbconvert_exporter": "python",
   "pygments_lexer": "ipython3",
   "version": "3.6.4"
  }
 },
 "nbformat": 4,
 "nbformat_minor": 2
}
